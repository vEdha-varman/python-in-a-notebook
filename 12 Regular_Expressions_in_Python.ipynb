{
  "nbformat": 4,
  "nbformat_minor": 0,
  "metadata": {
    "kernelspec": {
      "display_name": "Python 3.7.4 64-bit",
      "language": "python",
      "name": "python37464bit4ff258216e894a4b867aae2fac70db47"
    },
    "language_info": {
      "codemirror_mode": {
        "name": "ipython",
        "version": 3
      },
      "file_extension": ".py",
      "mimetype": "text/x-python",
      "name": "python",
      "nbconvert_exporter": "python",
      "pygments_lexer": "ipython3",
      "version": "3.7.4-final"
    },
    "colab": {
      "name": "1.Regular Expressions in Python.ipynb",
      "version": "0.3.2",
      "provenance": []
    }
  },
  "cells": [
    {
      "cell_type": "markdown",
      "metadata": {
        "colab_type": "text",
        "id": "CWyxmt-rh1Yr"
      },
      "source": [
        "## Regular Expressions in Python"
      ]
    },
    {
      "cell_type": "markdown",
      "metadata": {
        "colab_type": "text",
        "id": "dnAqhDc1h1Yt"
      },
      "source": [
        "In Python, regular expressions are supported by the re module. "
      ]
    },
    {
      "cell_type": "code",
      "execution_count": 2,
      "metadata": {},
      "outputs": [],
      "source": [
        "import re"
      ]
    },
    {
      "cell_type": "markdown",
      "metadata": {
        "colab_type": "text",
        "id": "M2hszD6Qh1Y1"
      },
      "source": [
        "## Basic Patterns: Ordinary Characters"
      ]
    },
    {
      "cell_type": "markdown",
      "metadata": {
        "colab_type": "text",
        "id": "L0sjdBVRh1Y2"
      },
      "source": [
        "Ordinary characters are the simplest regular expressions. They match themselves exactly and do not have a special meaning in their regular expression syntax."
      ]
    },
    {
      "cell_type": "code",
      "execution_count": 2,
      "metadata": {},
      "outputs": [
        {
          "name": "stdout",
          "output_type": "stream",
          "text": "Match!\n"
        }
      ],
      "source": [
        "pattern = r\"Cookie\"\n",
        "sequence = \"Cookie\"\n",
        "if re.match(pattern, sequence):\n",
        "  print(\"Match!\")\n",
        "else: print(\"Not a match!\")"
      ]
    },
    {
      "cell_type": "markdown",
      "metadata": {},
      "source": [
        "The regex search returns an object with several methods that give details about it.\n",
        "These methods include group which returns the string matched, start and end which return the start and ending positions of the first match, and span which returns the start and end positions of the first match as a tuple."
      ]
    },
    {
      "cell_type": "code",
      "execution_count": 4,
      "metadata": {},
      "outputs": [
        {
          "output_type": "stream",
          "name": "stdout",
          "text": "pam\n4\n7\n(4, 7)\n"
        }
      ],
      "source": [
        "pattern = r\"pam\"\n",
        "\n",
        "match = re.search(pattern, \"eggspamsausage\")\n",
        "if match:\n",
        "   print(match.group())\n",
        "   print(match.start())\n",
        "   print(match.end())\n",
        "   print(match.span())"
      ]
    },
    {
      "cell_type": "code",
      "execution_count": 3,
      "metadata": {},
      "outputs": [],
      "source": [
        " re.match(r'\\n', '\\\\n\\n\\n')  # output none"
      ]
    },
    {
      "cell_type": "code",
      "execution_count": 4,
      "metadata": {},
      "outputs": [
        {
          "data": {
            "text/plain": "<re.Match object; span=(0, 1), match='\\n'>"
          },
          "execution_count": 4,
          "metadata": {},
          "output_type": "execute_result"
        }
      ],
      "source": [
        " re.match(r'\\n', '\\n\\n\\n')  # True"
      ]
    },
    {
      "cell_type": "markdown",
      "metadata": {
        "colab_type": "text",
        "id": "xPvDuXvjh1ZE"
      },
      "source": [
        "The match() function returns a match object if the text matches the pattern. Otherwise it returns None. The re module also contains several other functions and you will learn some of them later on in the tutorial. "
      ]
    },
    {
      "cell_type": "markdown",
      "metadata": {
        "colab_type": "raw",
        "id": "FY5OYzeVh1ZH"
      },
      "source": [
        "For now, though, let's focus on ordinary characters! Do you notice the r at the start of the pattern Cookie? "
      ]
    },
    {
      "cell_type": "markdown",
      "metadata": {
        "colab_type": "raw",
        "id": "-2EbDOtgh1ZJ"
      },
      "source": [
        "This is called a raw string literal. It changes how the string literal is interpreted. Such literals are stored as they appear.\n",
        "\n",
        "For example, \\ is just a backslash when prefixed with a r rather than being interpreted as an escape sequence. You will see what this means with special characters. Sometimes, the syntax involves backslash-escaped characters and to prevent these characters from being interpreted as escape sequences, you use the raw r prefix. You don't actually need it for this example, however it is a good practice to use it for consistency."
      ]
    },
    {
      "cell_type": "markdown",
      "metadata": {},
      "source": [
        "## Metacharacters\n",
        "\n",
        "-->> A more understandable one.\n",
        "\n",
        "Metacharacters are what make regular expressions more powerful than normal string methods.\n",
        "They allow you to create regular expressions to represent concepts like \"one or more repetitions of a vowel\".\n",
        "\n",
        "The existence of metacharacters poses a problem if you want to create a regular expression (or regex) that matches a literal metacharacter, such as \"$\". You can do this by escaping the metacharacters by putting a backslash in front of them.\n",
        "However, this can cause problems, since backslashes also have an escaping function in normal Python strings. This can mean putting three or four backslashes in a row to do all the escaping.\n",
        "To avoid this, you can use a raw string, which is a normal string with an \"r\" in front of it. We saw usage of raw strings in the previous lesson."
      ]
    },
    {
      "cell_type": "markdown",
      "metadata": {
        "colab_type": "text",
        "id": "nX6o9lR2h1ZL"
      },
      "source": [
        "#### Wild Card Characters: Special Characters"
      ]
    },
    {
      "cell_type": "markdown",
      "metadata": {
        "colab_type": "text",
        "id": "y3ZDSXzph1ZN"
      },
      "source": [
        "##### Special characters are characters which do not match themselves as seen but actually have a special meaning when used in a regular expression. "
      ]
    },
    {
      "cell_type": "markdown",
      "metadata": {},
      "source": [
        "The most widely used special characters are:"
      ]
    },
    {
      "cell_type": "markdown",
      "metadata": {
        "colab_type": "text",
        "id": "6wfGduoCh1ZU"
      },
      "source": [
        "# . - A period. Matches any single character except newline character."
      ]
    },
    {
      "cell_type": "code",
      "execution_count": 6,
      "metadata": {},
      "outputs": [
        {
          "output_type": "stream",
          "name": "stdout",
          "text": "Match 1\nMatch 2\n"
        }
      ],
      "source": [
        "pattern = r\"gr.y\"\n",
        "\n",
        "if re.match(pattern, \"grey\"):\n",
        "   print(\"Match 1\")\n",
        "\n",
        "if re.match(pattern, \"gray\"):\n",
        "   print(\"Match 2\")\n",
        "\n",
        "if re.match(pattern, \"blue\"):\n",
        "   print(\"Match 3\")"
      ]
    },
    {
      "cell_type": "code",
      "execution_count": 5,
      "metadata": {},
      "outputs": [
        {
          "output_type": "execute_result",
          "data": {
            "text/plain": "'Co kie'"
          },
          "metadata": {},
          "execution_count": 5
        }
      ],
      "source": [
        "re.search(r'Co.k.e', 'Co kie').group()"
      ]
    },
    {
      "cell_type": "markdown",
      "metadata": {},
      "source": [
        "The group() function returns the string matched by the re. You will see this function in more detail later."
      ]
    },
    {
      "cell_type": "code",
      "execution_count": 5,
      "metadata": {},
      "outputs": [
        {
          "data": {
            "text/plain": "'liv'"
          },
          "execution_count": 5,
          "metadata": {},
          "output_type": "execute_result"
        }
      ],
      "source": [
        "re.search(r'l..' ,'Man lived a century ago').group()"
      ]
    },
    {
      "cell_type": "markdown",
      "metadata": {
        "colab_type": "text",
        "id": "Ztl_t72kh1Zq"
      },
      "source": [
        "#### Regular expressions use the backslash character ('\\') to indicate special forms or to allow special characters to be used without invoking their special meaning. "
      ]
    },
    {
      "cell_type": "markdown",
      "metadata": {
        "colab_type": "text",
        "id": "EbdK1vGAh1Z0"
      },
      "source": [
        "# \\w - Lowercase w. Matches any single letter, digit or underscore."
      ]
    },
    {
      "cell_type": "markdown",
      "metadata": {},
      "source": [
        "\\w - single character alpha-numeric, or underscore"
      ]
    },
    {
      "cell_type": "code",
      "execution_count": 8,
      "metadata": {},
      "outputs": [
        {
          "data": {
            "text/plain": "'Cookie'"
          },
          "execution_count": 8,
          "metadata": {},
          "output_type": "execute_result"
        }
      ],
      "source": [
        "re.search(r'Co\\wk\\we', 'Cookie').group()"
      ]
    },
    {
      "cell_type": "code",
      "execution_count": 7,
      "metadata": {},
      "outputs": [
        {
          "data": {
            "text/plain": "'I@gmail'"
          },
          "execution_count": 7,
          "metadata": {},
          "output_type": "execute_result"
        }
      ],
      "source": [
        "re.search(r'I\\W.....' ,'Today is I@gmail.com match').group()"
      ]
    },
    {
      "cell_type": "code",
      "execution_count": 9,
      "metadata": {},
      "outputs": [
        {
          "data": {
            "text/plain": "'ce_T!'"
          },
          "execution_count": 9,
          "metadata": {},
          "output_type": "execute_result"
        }
      ],
      "source": [
        "re.search(r'ce\\w..' ,'Man lived a ce_T!ry ago ce_90').group()  # Man lived a century ago\n",
        "# This seems to give the first part of the string from left that satisifies"
      ]
    },
    {
      "cell_type": "code",
      "execution_count": 33,
      "metadata": {},
      "outputs": [
        {
          "data": {
            "text/plain": "'ce_90'"
          },
          "execution_count": 33,
          "metadata": {},
          "output_type": "execute_result"
        }
      ],
      "source": [
        "re.search(r'ce\\w..' ,'Man lived a ce;!ury ago ce_90').group()  # Man lived a century ago"
      ]
    },
    {
      "cell_type": "code",
      "execution_count": 10,
      "metadata": {},
      "outputs": [],
      "source": [
        "re.search(r'ce\\w..' ,'Man lived a ce;Tury ago ce_9')   # .group()\n",
        "# Man lived a century ago\n",
        "# '.'-placeholder can't take '\\n'\n",
        "\n",
        "# If nothing satisifies then None is returned which on calling group() gives AttributeError as NoneType has no members"
      ]
    },
    {
      "cell_type": "markdown",
      "metadata": {
        "colab_type": "text",
        "id": "yvtIt2xZh1aJ"
      },
      "source": [
        "# \\W - Uppercase w. Matches any character not part of \\w (lowercase w)."
      ]
    },
    {
      "cell_type": "markdown",
      "metadata": {},
      "source": [
        "opp to \\w\n",
        "\n",
        "non-(alphanumeric or underscore) chars"
      ]
    },
    {
      "cell_type": "code",
      "execution_count": 42,
      "metadata": {},
      "outputs": [
        {
          "data": {
            "text/plain": "<re.Match object; span=(0, 4), match='C@ke'>"
          },
          "execution_count": 42,
          "metadata": {},
          "output_type": "execute_result"
        }
      ],
      "source": [
        "re.search(r'C\\Wke', 'C@ke')"
      ]
    },
    {
      "cell_type": "code",
      "execution_count": 11,
      "metadata": {},
      "outputs": [
        {
          "data": {
            "text/plain": "'C@ke'"
          },
          "execution_count": 11,
          "metadata": {},
          "output_type": "execute_result"
        }
      ],
      "source": [
        "re.search(r'C\\Wke', 'C@ke').group()"
      ]
    },
    {
      "cell_type": "code",
      "execution_count": 18,
      "metadata": {},
      "outputs": [],
      "source": [
        "re.search(r'ce\\W.' ,'Man lived a century ago')  # None"
      ]
    },
    {
      "cell_type": "code",
      "execution_count": 12,
      "metadata": {},
      "outputs": [
        {
          "data": {
            "text/plain": "'ce%t'"
          },
          "execution_count": 12,
          "metadata": {},
          "output_type": "execute_result"
        }
      ],
      "source": [
        "re.search(r'ce\\W.' ,'Man lived a ce%tury ago').group()"
      ]
    },
    {
      "cell_type": "code",
      "execution_count": 13,
      "metadata": {},
      "outputs": [],
      "source": [
        "re.search(r'ce\\w.' ,'Man lived a ce%tury ago')  # None"
      ]
    },
    {
      "cell_type": "markdown",
      "metadata": {
        "colab_type": "text",
        "id": "WKRvyhXLh1au"
      },
      "source": [
        "# \\s - Lowercase s. Matches a single whitespace character like: space, newline, tab, return."
      ]
    },
    {
      "cell_type": "code",
      "execution_count": 14,
      "metadata": {},
      "outputs": [],
      "source": [
        "re.search(r'shut\\stoday', 'BSE, NSE shut@today as Mumbai goes to polls')  # None"
      ]
    },
    {
      "cell_type": "markdown",
      "metadata": {
        "colab_type": "text",
        "id": "zCfkbqVph1a_"
      },
      "source": [
        "# \\S - Uppercase s. Matches any character not part of \\s (lowercase s)."
      ]
    },
    {
      "cell_type": "code",
      "execution_count": 15,
      "metadata": {},
      "outputs": [
        {
          "data": {
            "text/plain": "'Cookie'"
          },
          "execution_count": 15,
          "metadata": {},
          "output_type": "execute_result"
        }
      ],
      "source": [
        "re.search(r'Cook\\Se', 'Cookie').group()"
      ]
    },
    {
      "cell_type": "code",
      "execution_count": 16,
      "metadata": {},
      "outputs": [],
      "source": [
        "re.search(r'shut\\Stoday', 'BSE, NSE shut today as Mumbai goes to polls')  # None"
      ]
    },
    {
      "cell_type": "code",
      "execution_count": 17,
      "metadata": {},
      "outputs": [
        {
          "data": {
            "text/plain": "'shut@today'"
          },
          "execution_count": 17,
          "metadata": {},
          "output_type": "execute_result"
        }
      ],
      "source": [
        "re.search(r'shut\\Stoday', 'BSE, NSE shut@today as Mumbai goes to polls').group()"
      ]
    },
    {
      "cell_type": "markdown",
      "metadata": {
        "colab_type": "text",
        "id": "SzSKCb-Kh1bf"
      },
      "source": [
        ""
      ]
    },
    {
      "cell_type": "markdown",
      "metadata": {
        "colab_type": "raw",
        "id": "FHHTtSVfh1bi"
      },
      "source": [
        "\\n - Lowercase n. Matches newline.\n",
        "\n",
        "\\r - Lowercase r. Matches return(i.e. enter).\n",
        "\n",
        "\\d - Lowercase d. Matches decimal digit 0-9.\n"
      ]
    },
    {
      "cell_type": "code",
      "execution_count": 21,
      "metadata": {},
      "outputs": [
        {
          "data": {
            "text/plain": "'c00kie'"
          },
          "execution_count": 21,
          "metadata": {},
          "output_type": "execute_result"
        }
      ],
      "source": [
        "re.search(r'c\\d\\dkie', 'c00kie').group()"
      ]
    },
    {
      "cell_type": "markdown",
      "metadata": {
        "colab_type": "text",
        "id": "qbyCFgsCh1bv"
      },
      "source": [
        "# ^ - Caret. Matches a pattern at the start of the string."
      ]
    },
    {
      "cell_type": "code",
      "execution_count": 19,
      "metadata": {},
      "outputs": [
        {
          "data": {
            "text/plain": "'Eat'"
          },
          "execution_count": 19,
          "metadata": {},
          "output_type": "execute_result"
        }
      ],
      "source": [
        "re.search(r'^Eat', 'Eat cake').group()"
      ]
    },
    {
      "cell_type": "markdown",
      "metadata": {},
      "source": [
        "Don't use it like this"
      ]
    },
    {
      "cell_type": "code",
      "execution_count": 20,
      "metadata": {},
      "outputs": [],
      "source": [
        "re.search(r'Eat^', 'cake Eat')  # None"
      ]
    },
    {
      "cell_type": "markdown",
      "metadata": {
        "colab_type": "text",
        "id": "7Hvrn0wSh1b5"
      },
      "source": [
        "# $ - Matches a pattern at the end of string."
      ]
    },
    {
      "cell_type": "code",
      "execution_count": 22,
      "metadata": {},
      "outputs": [
        {
          "data": {
            "text/plain": "'cake'"
          },
          "execution_count": 22,
          "metadata": {},
          "output_type": "execute_result"
        }
      ],
      "source": [
        "re.search(r'cake$', 'Eat everyday cake').group()"
      ]
    },
    {
      "cell_type": "markdown",
      "metadata": {},
      "source": [
        "Don't use it like this"
      ]
    },
    {
      "cell_type": "code",
      "execution_count": 23,
      "metadata": {},
      "outputs": [],
      "source": [
        "re.search(r'$cake', 'cake Eat everyday')  # None"
      ]
    },
    {
      "cell_type": "code",
      "execution_count": 7,
      "metadata": {},
      "outputs": [
        {
          "output_type": "stream",
          "name": "stdout",
          "text": "Match 1\nMatch 2\n"
        }
      ],
      "source": [
        "pattern = r\"^gr.y$\"\n",
        "\n",
        "if re.match(pattern, \"grey\"):\n",
        "   print(\"Match 1\")\n",
        "\n",
        "if re.match(pattern, \"gray\"):\n",
        "   print(\"Match 2\")\n",
        "\n",
        "if re.match(pattern, \"stingray\"):\n",
        "   print(\"Match 3\")"
      ]
    },
    {
      "cell_type": "markdown",
      "metadata": {},
      "source": [
        "# Character Classes\n",
        "\n",
        "Character classes provide a way to match only one of a specific set of characters.\n",
        "A character class is created by putting the characters it matches inside square brackets."
      ]
    },
    {
      "cell_type": "markdown",
      "metadata": {
        "colab_type": "text",
        "id": "P8jGiqIFh1cA"
      },
      "source": [
        "\\[abc\\] - Matches a or b or c."
      ]
    },
    {
      "cell_type": "markdown",
      "metadata": {
        "colab_type": "text",
        "id": "QZfqSo0fh1cB"
      },
      "source": [
        "### \\[a-zA-Z0-9\\] - Matches any letter from (a to z) or (A to Z) or (0 to 9). Characters that are not within a range can be matched by complementing the set. If the first character of the set is ^, all the characters that are not in the set will be matched."
      ]
    },
    {
      "cell_type": "code",
      "execution_count": 8,
      "metadata": {},
      "outputs": [
        {
          "output_type": "stream",
          "name": "stdout",
          "text": "Match 1\nMatch 2\n"
        }
      ],
      "source": [
        "pattern = r\"[aeiou]\"\n",
        "\n",
        "if re.search(pattern, \"grey\"):\n",
        "   print(\"Match 1\")\n",
        "\n",
        "if re.search(pattern, \"qwertyuiop\"):\n",
        "   print(\"Match 2\")\n",
        "\n",
        "if re.search(pattern, \"rhythm myths\"):\n",
        "   print(\"Match 3\")"
      ]
    },
    {
      "cell_type": "code",
      "execution_count": 24,
      "metadata": {},
      "outputs": [
        {
          "data": {
            "text/plain": "'Number: 5'"
          },
          "execution_count": 24,
          "metadata": {},
          "output_type": "execute_result"
        }
      ],
      "source": [
        "re.search(r'Number: [0-6]', 'Number: 5').group()"
      ]
    },
    {
      "cell_type": "code",
      "execution_count": 25,
      "metadata": {},
      "outputs": [
        {
          "data": {
            "text/plain": "'5'"
          },
          "execution_count": 25,
          "metadata": {},
          "output_type": "execute_result"
        }
      ],
      "source": [
        "re.search(r'[0-9]', ' This is my 5 st car').group()"
      ]
    },
    {
      "cell_type": "code",
      "execution_count": 9,
      "metadata": {},
      "outputs": [
        {
          "output_type": "stream",
          "name": "stdout",
          "text": "Match 1\n"
        }
      ],
      "source": [
        "pattern = r\"[A-Z][A-Z][0-9]\"\n",
        "\n",
        "if re.search(pattern, \"LS8\"):\n",
        "   print(\"Match 1\")\n",
        "\n",
        "if re.search(pattern, \"E3\"):\n",
        "   print(\"Match 2\")\n",
        "\n",
        "if re.search(pattern, \"1ab\"):\n",
        "   print(\"Match 3\")"
      ]
    },
    {
      "cell_type": "markdown",
      "metadata": {},
      "source": [
        "Place a ^ at the start of a character class to invert it.\n",
        "This causes it to match any character other than the ones included.\n",
        "Other metacharacters such as $ and ., have no meaning within character classes.\n",
        "The metacharacter ^ has no meaning unless it is the first character in a class."
      ]
    },
    {
      "cell_type": "code",
      "execution_count": 27,
      "metadata": {},
      "outputs": [
        {
          "data": {
            "text/plain": "'Number: 0'"
          },
          "execution_count": 27,
          "metadata": {},
          "output_type": "execute_result"
        }
      ],
      "source": [
        "# Matches any character except 5\n",
        "re.search(r'Number: [^5]', 'Number: 09').group()"
      ]
    },
    {
      "cell_type": "code",
      "execution_count": 26,
      "metadata": {},
      "outputs": [],
      "source": [
        "re.search(r'Number: [^5]', 'Number: 5 0')  # None"
      ]
    },
    {
      "cell_type": "code",
      "execution_count": 28,
      "metadata": {},
      "outputs": [
        {
          "data": {
            "text/plain": "' '"
          },
          "execution_count": 28,
          "metadata": {},
          "output_type": "execute_result"
        }
      ],
      "source": [
        "re.search(r'[^5]', ' virat scored 22 runs').group()"
      ]
    },
    {
      "cell_type": "markdown",
      "metadata": {
        "colab_type": "text",
        "id": "kYIZzrnSh1ck"
      },
      "source": [
        "# \\A - Uppercase a. Matches only at the start of the string. Works across multiple lines as well."
      ]
    },
    {
      "cell_type": "code",
      "execution_count": 29,
      "metadata": {},
      "outputs": [],
      "source": [
        "re.search(r'\\A[A-E]ookie', 'cookie Cookie')  # None"
      ]
    },
    {
      "cell_type": "code",
      "execution_count": 55,
      "metadata": {},
      "outputs": [
        {
          "data": {
            "text/plain": "'Cookie'"
          },
          "execution_count": 55,
          "metadata": {},
          "output_type": "execute_result"
        }
      ],
      "source": [
        "re.search(r'\\A[A-E]ookie', 'Cookie').group()"
      ]
    },
    {
      "cell_type": "markdown",
      "metadata": {
        "colab_type": "text",
        "id": "3IzV4Jt5h1cz"
      },
      "source": [
        "# \\b - Lowercase b. Matches only the beginning or end of the word."
      ]
    },
    {
      "cell_type": "markdown",
      "metadata": {},
      "source": [
        "b - boundary b/w '\\w' and '\\W'\n",
        "\n",
        "or\n",
        "\n",
        "eg. r'\\bfoo\\b' matches 'foo' 'foo.' 'pfoo '"
      ]
    },
    {
      "cell_type": "code",
      "execution_count": 30,
      "metadata": {},
      "outputs": [
        {
          "data": {
            "text/plain": "'mumbai'"
          },
          "execution_count": 30,
          "metadata": {},
          "output_type": "execute_result"
        }
      ],
      "source": [
        "re.search(r'\\b[a-z]umbai', 'mumbait bumbai').group()"
      ]
    },
    {
      "cell_type": "code",
      "execution_count": 31,
      "metadata": {},
      "outputs": [
        {
          "data": {
            "text/plain": "'mumbai'"
          },
          "execution_count": 31,
          "metadata": {},
          "output_type": "execute_result"
        }
      ],
      "source": [
        "re.search(r'\\b[a-z]umbai', 'Mumbai mumbai').group()"
      ]
    },
    {
      "cell_type": "code",
      "execution_count": 32,
      "metadata": {},
      "outputs": [
        {
          "data": {
            "text/plain": "'mumbai'"
          },
          "execution_count": 32,
          "metadata": {},
          "output_type": "execute_result"
        }
      ],
      "source": [
        "re.search(r'\\b[a-z]umbai', 'Mumbai mumbai Mumbai').group()"
      ]
    },
    {
      "cell_type": "code",
      "execution_count": 34,
      "metadata": {},
      "outputs": [
        {
          "data": {
            "text/plain": "'mumba'"
          },
          "execution_count": 34,
          "metadata": {},
          "output_type": "execute_result"
        }
      ],
      "source": [
        "re.search(r'\\bmumba\\b', 'Mumbai mumba Mumbai').group()"
      ]
    },
    {
      "cell_type": "code",
      "execution_count": 35,
      "metadata": {},
      "outputs": [],
      "source": [
        "re.search(r'mumba\\b[a-z]', 'Mumbai mumbai Mumbai')  # None\n",
        "\n",
        "# ??"
      ]
    },
    {
      "cell_type": "markdown",
      "metadata": {},
      "source": [
        "## This cell below is just to feel what raw strings are and behave like"
      ]
    },
    {
      "cell_type": "code",
      "execution_count": 36,
      "metadata": {},
      "outputs": [
        {
          "name": "stdout",
          "output_type": "stream",
          "text": "\\\\n \\n \n \\n '\\n' \\n \\\\n\n2 <class 'str'> <class 'str'>\n1 2 2\nNone <re.Match object; span=(0, 1), match='\\n'> None\nl\n    k\t'l\\n    k'\t\"'l\\\\n    k'\"\t'\"\\'l\\\\\\\\n    k\\'\"'\n"
        }
      ],
      "source": [
        "print(r'\\\\n', r'\\n', '\\n', str(r'\\n'), repr('\\n'), str(str(r'\\n')), str(str(r'\\\\n')))\n",
        "print(repr(2), type(repr('\\n')), type(r'\\n'))\n",
        "print(len('\\n'), len(r'\\n'), len('\\\\n'))\n",
        "print(re.match(r'\\\\n', '\\n'),  re.match(r'\\n', '\\n'), re.match(r'\\n', '\\\\n'))\n",
        "\n",
        "s = \"\"\"l\n",
        "    k\"\"\"\n",
        "print(\n",
        "    s,\n",
        "    repr(s),\n",
        "    repr(repr(s)),\n",
        "    repr(repr(repr(s))),\n",
        "    sep='\\t'\n",
        ")"
      ]
    },
    {
      "cell_type": "markdown",
      "metadata": {
        "colab_type": "raw",
        "id": "IeS5Rku0h1c2"
      },
      "source": [
        "\\ - Backslash. If the character following the backslash is a recognized escape character, then the special meaning of the term is taken. For example, \\n is considered as newline. However, if the character following the \\ is not a recognized escape character, then the \\ is treated like any other character and passed through."
      ]
    },
    {
      "cell_type": "code",
      "execution_count": 37,
      "metadata": {},
      "outputs": [
        {
          "data": {
            "text/plain": "'Back\\\\stail'"
          },
          "execution_count": 37,
          "metadata": {},
          "output_type": "execute_result"
        }
      ],
      "source": [
        "# This checks for '\\' in the string instead of '\\t' due to the '\\' used \n",
        "re.search(r'Back\\\\stail', 'Back\\stail').group()  # ????"
      ]
    },
    {
      "cell_type": "markdown",
      "metadata": {},
      "source": [
        "only \\ seems to behave this way"
      ]
    },
    {
      "cell_type": "code",
      "execution_count": 43,
      "metadata": {},
      "outputs": [
        {
          "data": {
            "text/plain": "'Back tail?'"
          },
          "execution_count": 43,
          "metadata": {},
          "output_type": "execute_result"
        }
      ],
      "source": [
        "# This treats '\\s' as an escape character because it lacks '\\' at the start of '\\s'\n",
        "re.search(r'Back\\stail\\?', 'Back tail?').group()  # ???\n",
        "# \\? is a char"
      ]
    },
    {
      "cell_type": "code",
      "execution_count": 38,
      "metadata": {},
      "outputs": [
        {
          "data": {
            "text/plain": "'Back tail'"
          },
          "execution_count": 38,
          "metadata": {},
          "output_type": "execute_result"
        }
      ],
      "source": [
        "# This treats '\\s' as an escape character because it lacks '\\' at the start of '\\s'\n",
        "re.search(r'Back\\stail?', 'Back tail?').group()  # ???\n",
        "# ? here is placeholder wildcard"
      ]
    },
    {
      "cell_type": "code",
      "execution_count": 39,
      "metadata": {},
      "outputs": [
        {
          "data": {
            "text/plain": "'Back tail\\\\'"
          },
          "execution_count": 39,
          "metadata": {},
          "output_type": "execute_result"
        }
      ],
      "source": [
        "# This treats '\\s' as an escape character because it lacks '\\' at the start of '\\s'\n",
        "re.search(r'Back\\stail\\\\?', 'Back tail\\?').group()  # ???\n",
        "# \\? is a char"
      ]
    },
    {
      "cell_type": "code",
      "execution_count": 40,
      "metadata": {},
      "outputs": [
        {
          "data": {
            "text/plain": "'Back\\\\ tail'"
          },
          "execution_count": 40,
          "metadata": {},
          "output_type": "execute_result"
        }
      ],
      "source": [
        "# This checks for '\\' in the string instead of '\\t' due to the '\\' used \n",
        "re.search(r'Back\\\\\\stail', 'Back\\\\ tail').group()  # ????"
      ]
    },
    {
      "cell_type": "markdown",
      "metadata": {
        "colab_type": "text",
        "id": "hwIvP_ICh1dW"
      },
      "source": [
        "# Repetitions"
      ]
    },
    {
      "cell_type": "markdown",
      "metadata": {
        "colab_type": "text",
        "id": "9K1QyWqbh1dX"
      },
      "source": [
        "It becomes quite tedious if you are looking to find long patterns in a sequence. Fortunately, the re module handles repetitions using the following special characters:"
      ]
    },
    {
      "cell_type": "markdown",
      "metadata": {
        "colab_type": "text",
        "id": "suafF0dVh1dZ"
      },
      "source": [
        "# + - Checks for one or more characters to its left."
      ]
    },
    {
      "cell_type": "code",
      "execution_count": 11,
      "metadata": {},
      "outputs": [
        {
          "output_type": "stream",
          "name": "stdout",
          "text": "Match 1\nMatch 2\n"
        }
      ],
      "source": [
        "pattern = r\"g+\"\n",
        "\n",
        "if re.match(pattern, \"g\"):\n",
        "   print(\"Match 1\")\n",
        "\n",
        "if re.match(pattern, \"gggggggggggggg\"):\n",
        "   print(\"Match 2\")\n",
        "\n",
        "if re.match(pattern, \"abc\"):\n",
        "   print(\"Match 3\")"
      ]
    },
    {
      "cell_type": "code",
      "execution_count": 41,
      "metadata": {},
      "outputs": [
        {
          "data": {
            "text/plain": "'Cooookie'"
          },
          "execution_count": 41,
          "metadata": {},
          "output_type": "execute_result"
        }
      ],
      "source": [
        "re.search(r'Co+kie', '4 Cooookie 5 Coooookie').group()"
      ]
    },
    {
      "cell_type": "markdown",
      "metadata": {
        "colab_type": "text",
        "id": "CroNKvHDh1dh"
      },
      "source": [
        "# * - Checks for zero or more characters to its left."
      ]
    },
    {
      "cell_type": "code",
      "execution_count": 12,
      "metadata": {},
      "outputs": [
        {
          "output_type": "stream",
          "name": "stdout",
          "text": "Match 1\nMatch 2\n"
        }
      ],
      "source": [
        "pattern = r\"ice(-)?cream\"\n",
        "\n",
        "if re.match(pattern, \"ice-cream\"):\n",
        "   print(\"Match 1\")\n",
        "\n",
        "if re.match(pattern, \"icecream\"):\n",
        "   print(\"Match 2\")\n",
        "\n",
        "if re.match(pattern, \"sausages\"):\n",
        "   print(\"Match 3\")\n",
        "\n",
        "if re.match(pattern, \"ice--ice\"):\n",
        "   print(\"Match 4\")"
      ]
    },
    {
      "cell_type": "code",
      "execution_count": 44,
      "metadata": {},
      "outputs": [
        {
          "data": {
            "text/plain": "'Cokie'"
          },
          "execution_count": 44,
          "metadata": {},
          "output_type": "execute_result"
        }
      ],
      "source": [
        "# Checks for any occurrence of a or o or both in the given sequence\n",
        "re.search(r'Ca*o*kie', 'Cokie Caokie').group()"
      ]
    },
    {
      "cell_type": "code",
      "execution_count": 45,
      "metadata": {},
      "outputs": [
        {
          "name": "stdout",
          "output_type": "stream",
          "text": "['AV', 'is', 'largest', 'Analytics', 'community', 'of', 'India']\n"
        }
      ],
      "source": [
        "result=re.findall(r'\\w+','AV is largest Analytics community of India\\.')\n",
        "print (result)"
      ]
    },
    {
      "cell_type": "code",
      "execution_count": 46,
      "metadata": {},
      "outputs": [
        {
          "name": "stdout",
          "output_type": "stream",
          "text": "['AV', '', 'is', '', 'largest', '', 'Analytics', '', 'community', '', 'of', '', 'India', '', '', '']\n"
        }
      ],
      "source": [
        "result=re.findall(r'\\w*','AV is largest Analytics community of India\\.')\n",
        "print (result)"
      ]
    },
    {
      "cell_type": "code",
      "execution_count": 49,
      "metadata": {},
      "outputs": [
        {
          "name": "stdout",
          "output_type": "stream",
          "text": "['AV', '', 'is', '', 'largest', '', 'Analytics', '', 'community', '', 'of', '', 'India', '', '']\n"
        }
      ],
      "source": [
        "result=re.findall(r'\\w*','AV is largest Analytics community of India.')\n",
        "print (result)"
      ]
    },
    {
      "cell_type": "markdown",
      "metadata": {
        "colab_type": "text",
        "id": "CWH41wTbh1dz"
      },
      "source": [
        "# ? - Checks for exactly zero or one character to its left."
      ]
    },
    {
      "cell_type": "code",
      "execution_count": 47,
      "metadata": {},
      "outputs": [
        {
          "data": {
            "text/plain": "'Color'"
          },
          "execution_count": 47,
          "metadata": {},
          "output_type": "execute_result"
        }
      ],
      "source": [
        "# Checks for exactly zero or one occurrence of a or o or both in the given sequence\n",
        "re.search(r'Colou?r', 'Color').group()"
      ]
    },
    {
      "cell_type": "markdown",
      "metadata": {
        "colab_type": "text",
        "id": "cgjfljyqh1d6"
      },
      "source": [
        "## But what if you want to check for exact number of sequence repetition? "
      ]
    },
    {
      "cell_type": "markdown",
      "metadata": {},
      "source": [
        "# Curly Braces\n",
        "\n",
        "Curly braces can be used to represent the number of repetitions between two numbers.\n",
        "The regex {x,y} means \"between x and y repetitions of something\".\n",
        "Hence {0,1} is the same thing as ?.\n",
        "If the first number is missing, it is taken to be zero. If the second number is missing, it is taken to be infinity."
      ]
    },
    {
      "cell_type": "markdown",
      "metadata": {
        "colab_type": "raw",
        "id": "maDiUMQ3h1d7"
      },
      "source": [
        "For example, checking the validity of a phone number in an application. re module handles this very gracefully as well using the following regular expressions:\n",
        "\n",
        "{x} - Repeat exactly x number of times.\n",
        "\n",
        "{x,} - Repeat at least x times or more.\n",
        "\n",
        "{x, y} - Repeat at least x times but no more than y times."
      ]
    },
    {
      "cell_type": "code",
      "execution_count": 48,
      "metadata": {},
      "outputs": [
        {
          "data": {
            "text/plain": "'9920996342'"
          },
          "execution_count": 48,
          "metadata": {},
          "output_type": "execute_result"
        }
      ],
      "source": [
        "re.search(r'\\d{9,10}', '9920996342').group()"
      ]
    },
    {
      "cell_type": "code",
      "execution_count": 15,
      "metadata": {},
      "outputs": [
        {
          "output_type": "execute_result",
          "data": {
            "text/plain": "'9920996342'"
          },
          "metadata": {},
          "execution_count": 15
        }
      ],
      "source": [
        "re.search(r'\\d{,}', '9920996342').group()\n",
        "\n",
        "# explaine later, soon( approx. 4 cells down)"
      ]
    },
    {
      "cell_type": "code",
      "execution_count": 13,
      "metadata": {},
      "outputs": [
        {
          "output_type": "stream",
          "name": "stdout",
          "text": "Match 1\nMatch 2\n"
        }
      ],
      "source": [
        "pattern = r\"9{1,3}$\"\n",
        "\n",
        "if re.match(pattern, \"9\"):\n",
        "   print(\"Match 1\")\n",
        "\n",
        "if re.match(pattern, \"999\"):\n",
        "   print(\"Match 2\")\n",
        "\n",
        "if re.match(pattern, \"9999\"):\n",
        "   print(\"Match 3\")"
      ]
    },
    {
      "cell_type": "markdown",
      "metadata": {},
      "source": [
        "Some more metacharacters are *, +, ?, { and }.\n",
        "These specify numbers of repetitions.\n",
        "The metacharacter * means \"zero or more repetitions of the previous thing\". It tries to match as many repetitions as possible. The \"previous thing\" can be a single character, a class, or a group of characters in parentheses."
      ]
    },
    {
      "cell_type": "code",
      "execution_count": 10,
      "metadata": {},
      "outputs": [
        {
          "output_type": "stream",
          "name": "stdout",
          "text": "Match 1\nMatch 2\n"
        }
      ],
      "source": [
        "pattern = r\"egg(spam)*\"\n",
        "\n",
        "if re.match(pattern, \"egg\"):\n",
        "   print(\"Match 1\")\n",
        "\n",
        "if re.match(pattern, \"eggspamspamegg\"):\n",
        "   print(\"Match 2\")\n",
        "\n",
        "if re.match(pattern, \"spam\"):\n",
        "   print(\"Match 3\")"
      ]
    },
    {
      "cell_type": "markdown",
      "metadata": {
        "colab_type": "text",
        "id": "nlP0aToFh1eL"
      },
      "source": [
        "# The + and * qualifiers are said to be greedy."
      ]
    },
    {
      "cell_type": "code",
      "execution_count": 62,
      "metadata": {},
      "outputs": [
        {
          "data": {
            "text/plain": "'sup.p.o-rt@g-.mail.com'"
          },
          "execution_count": 62,
          "metadata": {},
          "output_type": "execute_result"
        }
      ],
      "source": [
        "email_address = 'Please contact us at: support@gmail.com'\n",
        "re.search(r'([\\w.-]+)@([\\w\\.-]+)', 'Please contact us at: sup.p.o-rt@g-.mail.com').group()  # both \\. and . give same valid outputs"
      ]
    },
    {
      "cell_type": "markdown",
      "metadata": {},
      "source": [
        "## minor Summary for +, *, ?, {}\n",
        "\n",
        "+ {min_reps, max_reps}  `# both inclusive; ints`\n",
        "\n",
        "* {, 3} ==> {0, 3} # 0 is default 1st arg\n",
        "* {1, } ==> {1, inf} # inf is default for 2nd arg\n",
        "\n",
        "\n",
        "*  \\+ ==> {1,}\n",
        "*  \\* ==> {,}\n",
        "*  ? ==> {,1}"
      ]
    },
    {
      "cell_type": "markdown",
      "metadata": {},
      "source": [
        "# Groups\n",
        "\n",
        "A group can be created by surrounding part of a regular expression with parentheses.\n",
        "This means that a group can be given as an argument to metacharacters such as * and ?."
      ]
    },
    {
      "cell_type": "code",
      "execution_count": 16,
      "metadata": {},
      "outputs": [
        {
          "output_type": "stream",
          "name": "stdout",
          "text": "Match 1\nMatch 2\n"
        }
      ],
      "source": [
        "pattern = r\"egg(spam)*\"\n",
        "\n",
        "if re.match(pattern, \"egg\"):\n",
        "   print(\"Match 1\")\n",
        "\n",
        "if re.match(pattern, \"eggspamspamspamegg\"):\n",
        "   print(\"Match 2\")\n",
        "\n",
        "if re.match(pattern, \"spam\"):\n",
        "   print(\"Match 3\")"
      ]
    },
    {
      "cell_type": "markdown",
      "metadata": {},
      "source": [
        "The content of groups in a match can be accessed using the group function.\n",
        "A call of group(0) or group() returns the whole match.\n",
        "A call of group(n), where n is greater than 0, returns the nth group from the left.\n",
        "The method groups() returns all groups up from 1."
      ]
    },
    {
      "cell_type": "code",
      "execution_count": 19,
      "metadata": {},
      "outputs": [
        {
          "output_type": "stream",
          "name": "stdout",
          "text": "abcdefghijk\nabcdefghijk\nbc\nde\n('bc', 'de', 'fgh', 'g', 'j')\n"
        }
      ],
      "source": [
        "pattern = r\"a(bc)(de)(f(g)h)i(j)k\"\n",
        "\n",
        "match = re.match(pattern, \"abcdefghijklmnop\")\n",
        "if match:\n",
        "   print(match.group())\n",
        "   print(match.group(0))\n",
        "   print(match.group(1))\n",
        "   print(match.group(2))\n",
        "   print(match.groups())\n",
        "# for some reason putting in an arg -1 didn't change the output"
      ]
    },
    {
      "cell_type": "markdown",
      "metadata": {},
      "source": [
        "There are several kinds of special groups.\n",
        "Two useful ones are named groups and non-capturing groups.\n",
        "Named groups have the format (?P<name>...), where name is the name of the group, and ... is the content. They behave exactly the same as normal groups, except they can be accessed by group(name) in addition to its number.\n",
        "Non-capturing groups have the format (?:...). They are not accessible by the group method, so they can be added to an existing regular expression without breaking the numbering."
      ]
    },
    {
      "cell_type": "code",
      "execution_count": 20,
      "metadata": {},
      "outputs": [
        {
          "output_type": "stream",
          "name": "stdout",
          "text": "abc\n('abc', 'ghi')\n"
        }
      ],
      "source": [
        "pattern = r\"(?P<first>abc)(?:def)(ghi)\"\n",
        "\n",
        "match = re.match(pattern, \"abcdefghi\")\n",
        "if match:\n",
        "   print(match.group(\"first\"))\n",
        "   print(match.groups())"
      ]
    },
    {
      "cell_type": "markdown",
      "metadata": {},
      "source": [
        "# | - used as OR\n",
        "\n",
        "Another important metacharacter is |.\n",
        "This means \"or\", so red|blue matches either \"red\" or \"blue\"."
      ]
    },
    {
      "cell_type": "code",
      "execution_count": 21,
      "metadata": {},
      "outputs": [
        {
          "output_type": "stream",
          "name": "stdout",
          "text": "Match 1\nMatch 2\n"
        }
      ],
      "source": [
        "pattern = r\"gr(a|e)y\"\n",
        "\n",
        "match = re.match(pattern, \"gray\")\n",
        "if match:\n",
        "   print (\"Match 1\")\n",
        "\n",
        "match = re.match(pattern, \"grey\")\n",
        "if match:\n",
        "   print (\"Match 2\")    \n",
        "\n",
        "match = re.match(pattern, \"griy\")\n",
        "if match:\n",
        "    print (\"Match 3\")"
      ]
    },
    {
      "cell_type": "markdown",
      "metadata": {},
      "source": [
        "# Special Sequences\n",
        "\n",
        "## In-short\n",
        "\n",
        "There are various special sequences you can use in regular expressions. They are written as a backslash followed by another character.\n",
        "One useful special sequence is a backslash and a number between 1 and 99, e.g., \\1 or \\17. This matches the expression of the group of that number."
      ]
    },
    {
      "cell_type": "code",
      "execution_count": 22,
      "metadata": {},
      "outputs": [
        {
          "output_type": "stream",
          "name": "stdout",
          "text": "Match 1\nMatch 2\n"
        }
      ],
      "source": [
        "pattern = r\"(.+) \\1\"\n",
        "\n",
        "match = re.match(pattern, \"word word\")\n",
        "if match:\n",
        "   print (\"Match 1\")\n",
        "\n",
        "match = re.match(pattern, \"?! ?!\")\n",
        "if match:\n",
        "   print (\"Match 2\")    \n",
        "\n",
        "match = re.match(pattern, \"abc cde\")\n",
        "if match:\n",
        "   print (\"Match 3\")"
      ]
    },
    {
      "cell_type": "markdown",
      "metadata": {},
      "source": [
        "More useful special sequences are \\d, \\s, and \\w.\n",
        "These match digits, whitespace, and word characters respectively.\n",
        "In ASCII mode they are equivalent to \\[0-9\\], \\[ \\t\\n\\r\\f\\v\\], and \\[a-zA-Z0-9_\\].\n",
        "\n",
        "+ \\d ==> \\[0-9\\]\n",
        "+ \\w ==> \\[a-zA-Z0-9_\\]\n",
        "+ \\s ==> \\[ \\t\\n\\r\\f\\v\\]  `# \\space is there too`\n",
        "\n",
        "In Unicode mode they match certain other characters, as well. For instance, \\w matches letters with accents.\n",
        "\n",
        "Versions of these special sequences with upper case letters - \\D, \\S, and \\W - mean the opposite to the lower-case versions. For instance, \\D matches anything that isn't a digit."
      ]
    },
    {
      "cell_type": "code",
      "execution_count": 23,
      "metadata": {},
      "outputs": [
        {
          "output_type": "stream",
          "name": "stdout",
          "text": "Match 1\n"
        }
      ],
      "source": [
        "pattern = r\"(\\D+\\d)\"\n",
        "\n",
        "match = re.match(pattern, \"Hi 999!\")\n",
        "\n",
        "if match:\n",
        "   print(\"Match 1\")\n",
        "\n",
        "match = re.match(pattern, \"1, 23, 456!\")\n",
        "if match:\n",
        "   print(\"Match 2\")\n",
        "\n",
        "match = re.match(pattern, \" ! $?\")\n",
        "if match:\n",
        "    print(\"Match 3\")"
      ]
    },
    {
      "cell_type": "markdown",
      "metadata": {},
      "source": [
        "Additional special sequences are \\A, \\Z, and \\b.\n",
        "The sequences \\A and \\Z match the beginning and end of a string, respectively.\n",
        "The sequence \\b matches the empty string between \\w and \\W characters, or \\w characters and the beginning or end of the string. Informally, it represents the boundary between words.\n",
        "The sequence \\B matches the empty string anywhere else."
      ]
    },
    {
      "cell_type": "code",
      "execution_count": 24,
      "metadata": {},
      "outputs": [
        {
          "output_type": "stream",
          "name": "stdout",
          "text": "Match 1\nMatch 2\n"
        }
      ],
      "source": [
        "pattern = r\"\\b(cat)\\b\"\n",
        "\n",
        "match = re.search(pattern, \"The cat sat!\")\n",
        "if match:\n",
        "   print (\"Match 1\")\n",
        "\n",
        "match = re.search(pattern, \"We s>cat<tered?\")\n",
        "if match:\n",
        "   print (\"Match 2\")\n",
        "\n",
        "match = re.search(pattern, \"We scattered.\")\n",
        "if match:\n",
        "   print (\"Match 3\")"
      ]
    },
    {
      "cell_type": "markdown",
      "metadata": {},
      "source": [
        "# Email Extraction\n",
        "\n",
        "To demonstrate a sample usage of regular expressions, lets create a program to extract email addresses from a string.\n",
        "Suppose we have a text that contains an email address:\n",
        "\n",
        "`str = \"Please contact info@sololearn.com for assistance\"`\n",
        "\n",
        "Our goal is to extract the substring \"info@sololearn.com\".\n",
        "A basic email address consists of a word and may include dots or dashes. This is followed by the @ sign and the domain name (the name, a dot, and the domain name suffix).\n",
        "This is the basis for building our regular expression.\n",
        "\n",
        "`pattern = r\"([\\w\\.-]+)@([\\w\\.-]+)(\\.[\\w\\.]+)\"`\n",
        "\n",
        "**\\[\\w\\.-\\]+** matches one or more word character, dot or dash.\n",
        "The regex above says that the string should contain a word (with dots and dashes allowed), followed by the @ sign, then another similar word, then a dot and another word.\n",
        "\n",
        "  Our regex contains three groups:\n",
        "*  1 - first part of the email address.\n",
        "*  2 - domain name without the suffix.\n",
        "*  3 - the domain suffix."
      ]
    },
    {
      "cell_type": "code",
      "execution_count": 25,
      "metadata": {},
      "outputs": [
        {
          "output_type": "stream",
          "name": "stdout",
          "text": "info@sololearn.com\n"
        }
      ],
      "source": [
        "pattern = r\"([\\w\\.-]+)@([\\w\\.-]+)(\\.[\\w\\.]+)\"\n",
        "str = \"Please contact info@sololearn.com for assistance\"\n",
        "\n",
        "match = re.search(pattern, str)\n",
        "if match:\n",
        "   print(match.group())"
      ]
    },
    {
      "cell_type": "markdown",
      "metadata": {},
      "source": [
        "In case the string contains multiple email addresses, we could use the re.findall method instead of re.search, to extract all email addresses.\n",
        "\n",
        "The regex in this example is for demonstration purposes only.\n",
        "A much more complex regex is required to fully validate an email address."
      ]
    },
    {
      "cell_type": "markdown",
      "metadata": {},
      "source": [
        "# Gen Funcs"
      ]
    },
    {
      "cell_type": "markdown",
      "metadata": {
        "colab_type": "text",
        "id": "Bebr4s8Th1eT"
      },
      "source": [
        "## Search() vs Match()\n",
        "\n",
        "The match() function checks for a match only at the beginning of the string (by default) whereas the search() function checks for a match anywhere in the string."
      ]
    },
    {
      "cell_type": "markdown",
      "metadata": {
        "colab_type": "text",
        "id": "NB56h9USh1eU"
      },
      "source": [
        "## findall(pattern, string, flags=0)"
      ]
    },
    {
      "cell_type": "markdown",
      "metadata": {
        "colab_type": "text",
        "id": "Bw2kgKmgh1eV"
      },
      "source": [
        "Finds all the possible matches in the entire sequence and returns them as a list of strings. Each returned string represents one match."
      ]
    },
    {
      "cell_type": "code",
      "execution_count": 50,
      "metadata": {},
      "outputs": [
        {
          "name": "stdout",
          "output_type": "stream",
          "text": "support@datacamp.com\nxyz@datacamp.com\n"
        }
      ],
      "source": [
        "email_address = \"Please contact us at: support@datacamp.com, xyz@datacamp.com\"\n",
        "\n",
        "#'addresses' is a list that stores all the possible match\n",
        "addresses = re.findall(r'[\\w\\.-]+@[\\w\\.-]+', email_address)\n",
        "for address in addresses: \n",
        "    print(address)"
      ]
    },
    {
      "cell_type": "code",
      "execution_count": 51,
      "metadata": {},
      "outputs": [
        {
          "name": "stdout",
          "output_type": "stream",
          "text": ".wlice-b@google.com\n"
        }
      ],
      "source": [
        "match = re.search(r'[\\w.-]+@[\\w.-]+', 'fcggf: a?.wlice-b@google.com, gvj@kgh.com')\n",
        "if match:\n",
        "  print(match.group())  ## 'alice-b@google.com'"
      ]
    },
    {
      "cell_type": "code",
      "execution_count": 54,
      "metadata": {},
      "outputs": [],
      "source": [
        "re.search(r'[\\.w-]+@[\\w.-]+', 'fcggf: alice-b@google.com, gvj@kgh.com')  # None, ; if poss find why order \\w.-"
      ]
    },
    {
      "cell_type": "code",
      "execution_count": 52,
      "metadata": {},
      "outputs": [
        {
          "data": {
            "text/plain": "'.'"
          },
          "execution_count": 52,
          "metadata": {},
          "output_type": "execute_result"
        }
      ],
      "source": [
        "re.search(r'\\.+', ',  . ..').group()"
      ]
    },
    {
      "cell_type": "markdown",
      "metadata": {},
      "source": [
        "The function **re.finditer** does the same thing as *re.findall*, except it returns an **iterator**, rather than a *list*."
      ]
    },
    {
      "cell_type": "markdown",
      "metadata": {
        "colab_type": "text",
        "id": "fjR3GyKuh1eg"
      },
      "source": [
        "## sub(pattern, repl, string, count=0, flags=0)"
      ]
    },
    {
      "cell_type": "markdown",
      "metadata": {
        "colab_type": "text",
        "id": "e3phwDZJh1eh"
      },
      "source": [
        "This is the substitute function. It returns the string obtained by replacing or substituting the leftmost non-overlapping occurrences of pattern in string by the replacement repl. If the pattern is not found then the string is returned unchanged."
      ]
    },
    {
      "cell_type": "code",
      "execution_count": 3,
      "metadata": {},
      "outputs": [
        {
          "output_type": "stream",
          "name": "stdout",
          "text": "My name is Amy. Hi Amy.\n"
        }
      ],
      "source": [
        "str = \"My name is David. Hi David.\"\n",
        "pattern = r\"David\"\n",
        "newstr = re.sub(pattern, \"Amy\", str)\n",
        "print(newstr)"
      ]
    },
    {
      "cell_type": "code",
      "execution_count": 53,
      "metadata": {},
      "outputs": [
        {
          "name": "stdout",
          "output_type": "stream",
          "text": "Please contact us at: support@datacamp.com\n"
        }
      ],
      "source": [
        "email_address = \"Please contact us at: xyz@datacamp.com\"\n",
        "new_email_address = re.sub(r'([\\w\\.-]+)@([\\w\\.-]+)', r'support@datacamp.com', email_address)\n",
        "print(new_email_address)"
      ]
    },
    {
      "cell_type": "markdown",
      "metadata": {
        "colab_type": "text",
        "id": "cTtGVWjDh1el"
      },
      "source": [
        "# Case Study: Working with Regular Expressions"
      ]
    },
    {
      "cell_type": "code",
      "execution_count": 67,
      "metadata": {},
      "outputs": [],
      "source": [
        "#! pip install requests"
      ]
    },
    {
      "cell_type": "code",
      "execution_count": 56,
      "metadata": {},
      "outputs": [],
      "source": [
        "# import re\n",
        "import requests"
      ]
    },
    {
      "cell_type": "code",
      "execution_count": 57,
      "metadata": {},
      "outputs": [
        {
          "data": {
            "text/plain": "'https://www.gutenberg.org/files/2638/2638-0.txt'"
          },
          "execution_count": 57,
          "metadata": {},
          "output_type": "execute_result"
        }
      ],
      "source": [
        "the_idiot_url = 'https://www.gutenberg.org/files/2638/2638-0.txt'\n",
        "the_idiot_url"
      ]
    },
    {
      "cell_type": "code",
      "execution_count": 58,
      "metadata": {},
      "outputs": [
        {
          "name": "stdout",
          "output_type": "stream",
          "text": "this cloak was a young fellow also of about twenty six or twenty seven years of age slightly above the middle height very fair with a thin pointed and very light coloured beard his eyes were large and blue and had an intent look about them yet that heavy expression which some people affirm to be a peculiarity as well as evidence of an epileptic subject. his face was decidedly a pleasant one for all that refined but quite colourless except for the circumstance that at this moment it was blue with cold. he held a bundle made up of an old faded silk handkerchief that apparently contained all his travelling wardrobe and wore thick shoes and gaiters his whole appearance being very un russian. his black haired neighbour inspected these peculiarities having nothing better to do and at length remarked with that rude enjoyment of the discomforts of others which the common classes so often show cold very said his neighbour readily and this is a thaw too. fancy if it had been a hard frost i never thought it would be so cold in the old country. i ve grown quite out of the way of it. what been abroad i suppose yes straight from switzerland. wheugh my goodness the black haired young fellow whistled and then laughed. the conversation proceeded. the readiness of the fair haired young man in the cloak to answer all his opposite neighbour s questions was surprising. he seemed to have no suspicion of any impertinence or inappropriateness in the fact of such questions being put to him. replying to them he made known to the inquirer that he certainly had been long absent from russia more than four years that he had been sent abroad for his health that he had suffered from some strange nervous malady a kind of epilepsy with convulsive spasms. his interlocutor burst out laughing several times at his answers and more than ever when to the question whether he had been cured the patient replied no they did not cure me. hey that s it you stumped up your money for nothing and we believe in those fellows here remarked the black haired individual sarcastically. gospel truth sir gospel truth exclaimed another passenger a shabbily dressed man of about forty who looked like a clerk and possessed a red nose and a very blotchy face. gospel truth all they do is to get hold of our good russian money free gratis and for nothing. oh but you re quite wrong in my particular instance said the swiss patient quietly. of course i can t argue the matter because i know only my own case but my doctor gave me money and he had very little to pay my journey back besides having kept me at his own expense while there for nearly two years. why was there no one else to pay for you asked the black haired one. no mr. pavlicheff who had been supporting me there died a couple of years ago. i wrote to mrs. general epanchin at the time she is a distant relative of mine but she did not answer my letter. and so eventually i came back. and where have you come to that is where am i going to stay i i really don t quite know yet i both the listeners laughed again. i suppose your whole set up is in that bundle then asked the first. i bet anything it is exclaimed the red nosed passenger with extreme satisfaction and that he has precious little in the luggage van though of course poverty is no crime we must remember that it appeared that it was indeed as they had surmised. the young fellow hastened to admit the fact with wonderful readiness. your bundle has some importance however continued the clerk when they had laughed their fill it was observable that the subject of their mirth joined in the laughter when he saw them laughing for though i dare say it is not stuffed full of friedrichs d or and louis d or judge from your costume and gaiters still if you can add to your possessions such a valuable property as a relation like mrs. general epanchin then your bundle becomes a significant object at once. that is of course if you really are a relative of mrs. epanchin s and have not made a little error through well absence of mind which is very common to human beings or say through a too luxuriant fancy oh you are right again said the fair haired traveller for i really am almost wrong when i say she and i are related. she is hardly a relation at all so little in fact that i was not in the least surprised to have no answer to my letter. i expected as much. h m you spent your postage for nothing then. h m you are candid however and that is commendable. h m mrs. epanchin oh yes a most eminent person. i know her. as for mr. pavlicheff who supported you in switzerland i know him too at least if it was nicolai andreevitch of that name a fine fellow he was and had a property of four thousand souls in his day. yes nicolai andreevitch that was his name and the young fellow looked earnestly and with curiosity at the all knowing gentleman with the red nose. this sort of character is met with pretty frequently in a certain class. they are people who know everyone that is they know where a man is employed what his salary is whom he knows whom he married what money his wife had who are his cousins and second cousins etc. etc. these men generally have about a hundred pounds a year to live on and they spend their whole time and talents in the amassing of this style of knowledge which they reduce or raise to the standard of a science. during the latter part of the conversation the black haired young man had become very impatient. he stared out of the window and fidgeted and evidently longed for the end of the journey. he was very absent he would appear to listen and heard nothing and he would laugh of a sudden evidently with no idea of what he was laughing about. excuse me said the red nosed man to the young fellow with the bundle rather suddenly whom have i the honour to be talking to prince lef nicolaievitch muishkin replied the latter with perfect readiness. prince muishkin lef nicolaievitch h m i don t know i m sure i may say i have never heard of such a person said the clerk thoughtfully. at least the name i admit is historical. karamsin must mention the family name of course in his history but as an individual one never hears of any prince muishkin nowadays. of course not replied the prince there are none except myself. i believe i am the last and only one. as to my forefathers they have always been a poor lot my own father was a sublieutenant in the army. i don t know how mrs. epanchin comes into the muishkin family but she is descended from the princess muishkin and she too is the last of her line. and did you learn science and all that with your professor over there asked the black haired passenger. oh yes i did learn a little but i ve never learned anything whatever said the other. oh but i learned very little you know added the prince as though excusing himself. they could not teach me very much on account of my illness. do you know the rogojins asked his questioner abruptly. no i don t not at all i hardly know anyone in russia. why is that your name yes i am rogojin parfen rogojin. parfen rogojin dear me then don t you belong to those very rogojins perhaps began the clerk with a very perceptible increase of civility in his tone. yes those very ones interrupted rogojin impatiently and with scant courtesy. i may remark that he had not once taken any notice of the blotchy faced passenger and had hitherto addressed all his remarks direct to the prince. dear me is it possible observed the clerk while his face assumed an expression of great deference and servility if not of absolute alarm what a son of that very semen rogojin hereditary honourable citizen who died a month or so ago and left two million and a half of roubles and how do you know that he left two million and a half of roubles asked rogojin disdainfully and not deigning so much as to look at the other. however it s true enough that my father died a month ago and that here am i returning from pskoff a month after with hardly a boot to my foot. they ve treated me like a dog i ve been ill of fever at pskoff the whole time and not a line nor farthing of money have i received from my mother or my confounded brother and now you ll have a million roubles at least goodness gracious me exclaimed the clerk rubbing his hands. five weeks since i was just like yourself continued rogojin addressing the prince with nothing but a bundle and the clothes i wore. i ran away from my father and came to pskoff to my aunt s house where i caved in at once with fever and he went and died while i was away. all honour to my respected father s memory but he uncommonly nearly killed me all the same. give you my word prince if i hadn t cut and run then when i did he d have murdered me like a dog. i suppose you angered him somehow asked the prince looking at the millionaire with considerable curiosity. but though there may have been something remarkable in the fact that this man was heir to millions of roubles there was something about him which surprised and interested the prince more than that. rogojin too seemed to have taken up the conversation with unusual alacrity it appeared that he was still in a considerable state of excitement if not absolutely feverish and was in real need of someone to talk to for the mere sake of talking as safety valve to his agitation. as for his red nosed neighbour the latter since the information as to the identity of rogojin hung over him seemed to be living on the honey of his words and in the breath of his nostrils catching at every syllable as though it were a pearl of great price. oh yes i angered him i certainly did anger him replied rogojin. but what puts me out so is my brother. of course my mother couldn t do anything she s too old and whatever brother senka says is law for her but why couldn t he let me know he sent a telegram they say. what s the good of a telegram it frightened my aunt so that she sent it back to the office unopened and there it s been ever since it s only thanks to konief that i heard at all he wrote me all about it. he says my brother cut off the gold tassels from my father s coffin at night because they re worth a lot of money says he. why i can get him sent off to siberia for that alone if i like it s sacrilege. here you scarecrow he added addressing the clerk at his side is it sacrilege or not by law sacrilege certainly certainly sacrilege said the latter. and it s siberia for sacrilege isn t it undoubtedly so siberia of course they will think that i m still ill continued rogojin to the prince but i sloped off quietly seedy as i was took the train and came away. aha brother senka you ll have to open your gates and let me in my boy i know he told tales about me to my father i know that well enough but i certainly did rile my father about nastasia philipovna that s very sure and that was my own doing. nastasia philipovna said the clerk as though trying to think out something. come you know nothing about her said rogojin impatiently. and supposing i do know something observed the other triumphantly. bosh there are plenty of nastasia philipovnas. and what an impertinent beast you are he added angrily. i thought some creature like you would hang on to me as soon as i got hold of my money. oh but i do know as it happens said the clerk in an aggravating manner. lebedeff knows all about her. you are pleased to reproach me your excellency but what if i prove that i am right after all nastasia phillpovna s family name is barashkoff i know you see and she is a very well known lady indeed and comes of a good family too. she is connected with one totski afanasy ivanovitch a man of considerable property a director of companies and so on and a great friend of general epanchin who is interested in the same matters as he is. my eyes said rogojin really surprised at last. the devil take the fellow how does he know that why he knows everything lebedeff knows everything i was a month or two with lihachof after his father died your excellency and while he was knocking about he s in the debtor s prison now i was with him and he couldn t do a thing without lebedeff and i got to know nastasia philipovna and several people at that time. nastasia philipovna why you don t mean to say that she and lihachof cried rogojin turning quite pale. no no no no no nothing of the sort i assure you said lebedeff hastily. oh dear no not for the world totski s the only man with any chance there. oh no he takes her to his box at the opera at the french theatre of an evening and the officers and people all look at her and say by jove there s the famous nastasia philipovna but no one ever gets any further than that for there is nothing more to say. yes it s quite true said rogojin frowning gloomily so zaleshoff told me. i was walking about the nefsky one fine day prince in my father s old coat when she suddenly came out of a shop and stepped into her carriage. i swear i was all of a blaze at once. then i met zaleshoff looking like a hair dresser s assistant got up as fine as i don t know who while i looked like a tinker. don t flatter yourself my boy said he she s not for such as you she s a princess she is and her name is nastasia philipovna barashkoff and she lives with totski who wishes to get rid of her because he s growing rather old fifty five or so and wants to marry a certain beauty the loveliest woman in all petersburg. and then he told me that i could see nastasia philipovna at the opera house that evening if i liked and described which was her box. well i d like to see my father allowing any of us to go to the theatre he d sooner have killed us any day. however i went for an hour or so and saw nastasia philipovna and i never slept a wink all night after. next morning my father happened to give me two government loan bonds to sell worth nearly five thousand roubles each. sell them said he and then take seven thousand five hundred roubles to the office give them to the cashier and bring me back the rest of the ten thousand without looking in anywhere on the way look sharp i shall be waiting for you. well i sold the bonds but i didn t take the seven thousand roubles to the office i went straight to the english shop and chose a pair of earrings with a diamond the size of a nut in each. they cost four hundred roubles more than i had so i gave my name and they trusted me. with the earrings i went at once to zaleshoff s. come on i said come on to nastasia philipovna s and off we went without more ado. i tell you i hadn t a notion of what was about me or before me or below my feet all the way i saw nothing whatever. we went straight into her drawing room and then she came out to us. i didn t say right out who i was but zaleshoff said from parfen rogojin in memory of his first meeting with you yesterday be so kind as to accept these she opened the parcel looked at the earrings and laughed. thank your friend mr. rogojin for his kind attention says she and bowed and went off. why didn t i die there on the spot the worst of it all was though that the beast zaleshoff got all the credit of it i was short and abominably dressed and stood and stared in her face and never said a word because i was shy like an ass and there was he all in the fashion pomaded and dressed out with a smart tie on bowing and scraping and i bet anything she took him for me all the while look here now i said when we came out none of your interference here after this do you understand he laughed and how are you going to settle up with your father says he. i thought i might as well jump into the neva at once without going home first but it struck me that i wouldn t after all and i went home feeling like one of the damned. my goodness shivered the clerk. and his father he added for the prince s instruction and his father would have given a man a ticket to the other world for ten roubles any day not to speak of ten thousand the prince observed rogojin with great curiosity he seemed paler than ever at this moment. what do you know about it cried the latter. well my father learned the whole story at once and zaleshoff blabbed it all over the town besides. so he took me upstairs and locked me up and swore at me for an hour. this is only a foretaste says he wait a bit till night comes and i ll come back and talk to you again. well what do you think the old fellow went straight off to nastasia philipovna touched the floor with his forehead and began blubbering and beseeching her on his knees to give him back the diamonds. so after awhile she brought the box and flew out at him. there she says take your earrings you wretched old miser although they are ten times dearer than their value to me now that i know what it must have cost parfen to get them give parfen my compliments she says and thank him very much well i meanwhile had borrowed twenty five roubles from a friend and off i went to pskoff to my aunt s. the old woman there lectured me so that i left the house and went on a drinking tour round the public houses of the place. i was in a high fever when i got to pskoff and by nightfall i was lying delirious in the streets somewhere or other oho we ll make nastasia philipovna sing another song now giggled lebedeff rubbing his hands with glee. hey my boy we ll get her some proper earrings now we ll get her such earrings that look here cried rogojin seizing him fiercely by the arm look here if you so much as name nastasia philipovna again i ll tan your hide as sure as you sit there aha do by all means if you tan my hide you won t turn me away from your society. you ll bind me to you with your lash for ever. ha ha here we are at the station though. sure enough the train was just steaming in as he spoke. though rogojin had declared that he left pskoff secretly a large collection of friends had assembled to greet him and did so with profuse waving of hats and shouting. why there s zaleshoff here too he muttered gazing at the scene with a sort of triumphant but unpleasant smile. then he suddenly turned to the prince prince i don t know why i have taken a fancy to you perhaps because i met you just when i did. but no it can t be that for i met this fellow nodding at lebedeff too and i have not taken a fancy to him by any means. come to see me prince we ll take off those gaiters of yours and dress you up in a smart fur coat the best we can buy. you shall have a dress coat best quality white waistcoat anything you like and your pocket shall be full of money. come and you shall go with me to nastasia philipovna s. now then will you come or no accept accept prince lef nicolaievitch said lebedef solemnly don t let it slip accept quick prince muishkin rose and stretched out his hand courteously while he replied with some cordiality i will come with the greatest pleasure and thank you very much for taking a fancy to me. i dare say i may even come today if i have time for i tell you frankly that i like you very much too. i liked you especially when you told us about the diamond earrings but i liked you before that as well though you have such a dark clouded sort of face. thanks very much for the offer of clothes and a fur coat i certainly shall require both clothes and coat very soon. as for money i have hardly a copeck about me at this moment. you shall have lots of money by the evening i shall have plenty so come along that s true enough he ll have lots before evening put in lebedeff. but look here are you a great hand with the ladies let s know that first asked rogojin. oh no oh no said the prince i couldn t you know my illness i hardly ever saw a soul. h m well here you fellow you can come along with me now if you like cried rogojin to lebedeff and so they all left the carriage. lebedeff had his desire. he went off with the noisy group of rogojin s friends towards the voznesensky while the prince s route lay towards the litaynaya. it was damp and wet. the prince asked his way of passers by and finding that he was a couple of miles or so from his destination he determined to take a droshky. \n"
        }
      ],
      "source": [
        "def get_book(url):\n",
        "    # Sends a http request to get the text from project Gutenberg\n",
        "    raw = requests.get(url).text\n",
        "    # Discards the metadata from the beginning of the book\n",
        "    start = re.search(r\"\\*\\*\\* START OF THIS PROJECT GUTENBERG EBOOK .* \\*\\*\\*\",raw ).end()\n",
        "    # Discards the metadata from the end of the book\n",
        "    stop = re.search(r\"II\", raw).start()\n",
        "    # Keeps the relevant text\n",
        "    text = raw[start:stop]\n",
        "    return text\n",
        "\n",
        "def preprocess(sentence): \n",
        "    return re.sub('[^A-Za-z0-9.]+' , ' ', sentence).lower()\n",
        "\n",
        "book = get_book(the_idiot_url)\n",
        "processed_book = preprocess(book)\n",
        "print(processed_book)\n"
      ]
    },
    {
      "cell_type": "markdown",
      "metadata": {
        "colab_type": "text",
        "id": "AMOPdWbMh1e5"
      },
      "source": [
        "## Find the number of the pronoun \"the\" in the corpus. Hint: use the len() function. "
      ]
    },
    {
      "cell_type": "code",
      "execution_count": 59,
      "metadata": {},
      "outputs": [
        {
          "data": {
            "text/plain": "302"
          },
          "execution_count": 59,
          "metadata": {},
          "output_type": "execute_result"
        }
      ],
      "source": [
        "len(re.findall(r'the', processed_book))"
      ]
    },
    {
      "cell_type": "markdown",
      "metadata": {},
      "source": [
        "This method also takes into account the type of words below"
      ]
    },
    {
      "cell_type": "code",
      "execution_count": 60,
      "metadata": {},
      "outputs": [
        {
          "data": {
            "text/plain": "4"
          },
          "execution_count": 60,
          "metadata": {},
          "output_type": "execute_result"
        }
      ],
      "source": [
        "len(re.findall(r'the', ' the them their theory'))"
      ]
    },
    {
      "cell_type": "markdown",
      "metadata": {},
      "source": [
        "So,"
      ]
    },
    {
      "cell_type": "code",
      "execution_count": 61,
      "metadata": {},
      "outputs": [
        {
          "data": {
            "text/plain": "187"
          },
          "execution_count": 61,
          "metadata": {},
          "output_type": "execute_result"
        }
      ],
      "source": [
        "len(re.findall(r' the ', processed_book))\n",
        "# r' [Tt]he ' is'nt taken as all the letters we took are lowercase, so 'T' won't make any diff\n",
        "# r'[\\s.][Tt]he ' is not taken as in english after '\\.' '\\space' follows"
      ]
    },
    {
      "cell_type": "markdown",
      "metadata": {},
      "source": [
        "and is right"
      ]
    },
    {
      "cell_type": "code",
      "execution_count": 63,
      "metadata": {},
      "outputs": [
        {
          "data": {
            "text/plain": "1"
          },
          "execution_count": 63,
          "metadata": {},
          "output_type": "execute_result"
        }
      ],
      "source": [
        "len(re.findall(r' [Tt]he ', 'Their the. The '))"
      ]
    },
    {
      "cell_type": "markdown",
      "metadata": {
        "colab_type": "text",
        "id": "t-H-wHAUh1fC"
      },
      "source": [
        "## Try to convert every single stand-alone instance of 'i' to 'I' in the corpus. Make sure not to change the 'i' occuring in a word:"
      ]
    },
    {
      "cell_type": "code",
      "execution_count": 64,
      "metadata": {},
      "outputs": [
        {
          "name": "stdout",
          "output_type": "stream",
          "text": "this cloak was a young fellow also of about twenty six or twenty seven years of age slightly above the middle height very fair with a thin pointed and very light coloured beard his eyes were large and blue and had an intent look about them yet that heavy expression which some people affirm to be a peculiarity as well as evidence of an epileptic subject. his face was decidedly a pleasant one for all that refined but quite colourless except for the circumstance that at this moment it was blue with cold. he held a bundle made up of an old faded silk handkerchief that apparently contained all his travelling wardrobe and wore thick shoes and gaiters his whole appearance being very un russian. his black haired neighbour inspected these peculiarities having nothing better to do and at length remarked with that rude enjoyment of the discomforts of others which the common classes so often show cold very said his neighbour readily and this is a thaw too. fancy if it had been a hard frost I never thought it would be so cold in the old country. I ve grown quite out of the way of it. what been abroad I suppose yes straight from switzerland. wheugh my goodness the black haired young fellow whistled and then laughed. the conversation proceeded. the readiness of the fair haired young man in the cloak to answer all his opposite neighbour s questions was surprising. he seemed to have no suspicion of any impertinence or inappropriateness in the fact of such questions being put to him. replying to them he made known to the inquirer that he certainly had been long absent from russia more than four years that he had been sent abroad for his health that he had suffered from some strange nervous malady a kind of epilepsy with convulsive spasms. his interlocutor burst out laughing several times at his answers and more than ever when to the question whether he had been cured the patient replied no they did not cure me. hey that s it you stumped up your money for nothing and we believe in those fellows here remarked the black haired individual sarcastically. gospel truth sir gospel truth exclaimed another passenger a shabbily dressed man of about forty who looked like a clerk and possessed a red nose and a very blotchy face. gospel truth all they do is to get hold of our good russian money free gratis and for nothing. oh but you re quite wrong in my particular instance said the swiss patient quietly. of course I can t argue the matter because I know only my own case but my doctor gave me money and he had very little to pay my journey back besides having kept me at his own expense while there for nearly two years. why was there no one else to pay for you asked the black haired one. no mr. pavlicheff who had been supporting me there died a couple of years ago. I wrote to mrs. general epanchin at the time she is a distant relative of mine but she did not answer my letter. and so eventually I came back. and where have you come to that is where am I going to stay I i really don t quite know yet I both the listeners laughed again. I suppose your whole set up is in that bundle then asked the first. I bet anything it is exclaimed the red nosed passenger with extreme satisfaction and that he has precious little in the luggage van though of course poverty is no crime we must remember that it appeared that it was indeed as they had surmised. the young fellow hastened to admit the fact with wonderful readiness. your bundle has some importance however continued the clerk when they had laughed their fill it was observable that the subject of their mirth joined in the laughter when he saw them laughing for though I dare say it is not stuffed full of friedrichs d or and louis d or judge from your costume and gaiters still if you can add to your possessions such a valuable property as a relation like mrs. general epanchin then your bundle becomes a significant object at once. that is of course if you really are a relative of mrs. epanchin s and have not made a little error through well absence of mind which is very common to human beings or say through a too luxuriant fancy oh you are right again said the fair haired traveller for I really am almost wrong when I say she and I are related. she is hardly a relation at all so little in fact that I was not in the least surprised to have no answer to my letter. I expected as much. h m you spent your postage for nothing then. h m you are candid however and that is commendable. h m mrs. epanchin oh yes a most eminent person. I know her. as for mr. pavlicheff who supported you in switzerland I know him too at least if it was nicolai andreevitch of that name a fine fellow he was and had a property of four thousand souls in his day. yes nicolai andreevitch that was his name and the young fellow looked earnestly and with curiosity at the all knowing gentleman with the red nose. this sort of character is met with pretty frequently in a certain class. they are people who know everyone that is they know where a man is employed what his salary is whom he knows whom he married what money his wife had who are his cousins and second cousins etc. etc. these men generally have about a hundred pounds a year to live on and they spend their whole time and talents in the amassing of this style of knowledge which they reduce or raise to the standard of a science. during the latter part of the conversation the black haired young man had become very impatient. he stared out of the window and fidgeted and evidently longed for the end of the journey. he was very absent he would appear to listen and heard nothing and he would laugh of a sudden evidently with no idea of what he was laughing about. excuse me said the red nosed man to the young fellow with the bundle rather suddenly whom have I the honour to be talking to prince lef nicolaievitch muishkin replied the latter with perfect readiness. prince muishkin lef nicolaievitch h m I don t know I m sure I may say I have never heard of such a person said the clerk thoughtfully. at least the name I admit is historical. karamsin must mention the family name of course in his history but as an individual one never hears of any prince muishkin nowadays. of course not replied the prince there are none except myself. I believe I am the last and only one. as to my forefathers they have always been a poor lot my own father was a sublieutenant in the army. I don t know how mrs. epanchin comes into the muishkin family but she is descended from the princess muishkin and she too is the last of her line. and did you learn science and all that with your professor over there asked the black haired passenger. oh yes I did learn a little but I ve never learned anything whatever said the other. oh but I learned very little you know added the prince as though excusing himself. they could not teach me very much on account of my illness. do you know the rogojins asked his questioner abruptly. no I don t not at all I hardly know anyone in russia. why is that your name yes I am rogojin parfen rogojin. parfen rogojin dear me then don t you belong to those very rogojins perhaps began the clerk with a very perceptible increase of civility in his tone. yes those very ones interrupted rogojin impatiently and with scant courtesy. I may remark that he had not once taken any notice of the blotchy faced passenger and had hitherto addressed all his remarks direct to the prince. dear me is it possible observed the clerk while his face assumed an expression of great deference and servility if not of absolute alarm what a son of that very semen rogojin hereditary honourable citizen who died a month or so ago and left two million and a half of roubles and how do you know that he left two million and a half of roubles asked rogojin disdainfully and not deigning so much as to look at the other. however it s true enough that my father died a month ago and that here am I returning from pskoff a month after with hardly a boot to my foot. they ve treated me like a dog I ve been ill of fever at pskoff the whole time and not a line nor farthing of money have I received from my mother or my confounded brother and now you ll have a million roubles at least goodness gracious me exclaimed the clerk rubbing his hands. five weeks since I was just like yourself continued rogojin addressing the prince with nothing but a bundle and the clothes I wore. I ran away from my father and came to pskoff to my aunt s house where I caved in at once with fever and he went and died while I was away. all honour to my respected father s memory but he uncommonly nearly killed me all the same. give you my word prince if I hadn t cut and run then when I did he d have murdered me like a dog. I suppose you angered him somehow asked the prince looking at the millionaire with considerable curiosity. but though there may have been something remarkable in the fact that this man was heir to millions of roubles there was something about him which surprised and interested the prince more than that. rogojin too seemed to have taken up the conversation with unusual alacrity it appeared that he was still in a considerable state of excitement if not absolutely feverish and was in real need of someone to talk to for the mere sake of talking as safety valve to his agitation. as for his red nosed neighbour the latter since the information as to the identity of rogojin hung over him seemed to be living on the honey of his words and in the breath of his nostrils catching at every syllable as though it were a pearl of great price. oh yes I angered him I certainly did anger him replied rogojin. but what puts me out so is my brother. of course my mother couldn t do anything she s too old and whatever brother senka says is law for her but why couldn t he let me know he sent a telegram they say. what s the good of a telegram it frightened my aunt so that she sent it back to the office unopened and there it s been ever since it s only thanks to konief that I heard at all he wrote me all about it. he says my brother cut off the gold tassels from my father s coffin at night because they re worth a lot of money says he. why I can get him sent off to siberia for that alone if I like it s sacrilege. here you scarecrow he added addressing the clerk at his side is it sacrilege or not by law sacrilege certainly certainly sacrilege said the latter. and it s siberia for sacrilege isn t it undoubtedly so siberia of course they will think that I m still ill continued rogojin to the prince but I sloped off quietly seedy as I was took the train and came away. aha brother senka you ll have to open your gates and let me in my boy I know he told tales about me to my father I know that well enough but I certainly did rile my father about nastasia philipovna that s very sure and that was my own doing. nastasia philipovna said the clerk as though trying to think out something. come you know nothing about her said rogojin impatiently. and supposing I do know something observed the other triumphantly. bosh there are plenty of nastasia philipovnas. and what an impertinent beast you are he added angrily. I thought some creature like you would hang on to me as soon as I got hold of my money. oh but I do know as it happens said the clerk in an aggravating manner. lebedeff knows all about her. you are pleased to reproach me your excellency but what if I prove that I am right after all nastasia phillpovna s family name is barashkoff I know you see and she is a very well known lady indeed and comes of a good family too. she is connected with one totski afanasy ivanovitch a man of considerable property a director of companies and so on and a great friend of general epanchin who is interested in the same matters as he is. my eyes said rogojin really surprised at last. the devil take the fellow how does he know that why he knows everything lebedeff knows everything I was a month or two with lihachof after his father died your excellency and while he was knocking about he s in the debtor s prison now I was with him and he couldn t do a thing without lebedeff and I got to know nastasia philipovna and several people at that time. nastasia philipovna why you don t mean to say that she and lihachof cried rogojin turning quite pale. no no no no no nothing of the sort I assure you said lebedeff hastily. oh dear no not for the world totski s the only man with any chance there. oh no he takes her to his box at the opera at the french theatre of an evening and the officers and people all look at her and say by jove there s the famous nastasia philipovna but no one ever gets any further than that for there is nothing more to say. yes it s quite true said rogojin frowning gloomily so zaleshoff told me. I was walking about the nefsky one fine day prince in my father s old coat when she suddenly came out of a shop and stepped into her carriage. I swear I was all of a blaze at once. then I met zaleshoff looking like a hair dresser s assistant got up as fine as I don t know who while I looked like a tinker. don t flatter yourself my boy said he she s not for such as you she s a princess she is and her name is nastasia philipovna barashkoff and she lives with totski who wishes to get rid of her because he s growing rather old fifty five or so and wants to marry a certain beauty the loveliest woman in all petersburg. and then he told me that I could see nastasia philipovna at the opera house that evening if I liked and described which was her box. well I d like to see my father allowing any of us to go to the theatre he d sooner have killed us any day. however I went for an hour or so and saw nastasia philipovna and I never slept a wink all night after. next morning my father happened to give me two government loan bonds to sell worth nearly five thousand roubles each. sell them said he and then take seven thousand five hundred roubles to the office give them to the cashier and bring me back the rest of the ten thousand without looking in anywhere on the way look sharp I shall be waiting for you. well I sold the bonds but I didn t take the seven thousand roubles to the office I went straight to the english shop and chose a pair of earrings with a diamond the size of a nut in each. they cost four hundred roubles more than I had so I gave my name and they trusted me. with the earrings I went at once to zaleshoff s. come on I said come on to nastasia philipovna s and off we went without more ado. I tell you I hadn t a notion of what was about me or before me or below my feet all the way I saw nothing whatever. we went straight into her drawing room and then she came out to us. I didn t say right out who I was but zaleshoff said from parfen rogojin in memory of his first meeting with you yesterday be so kind as to accept these she opened the parcel looked at the earrings and laughed. thank your friend mr. rogojin for his kind attention says she and bowed and went off. why didn t I die there on the spot the worst of it all was though that the beast zaleshoff got all the credit of it I was short and abominably dressed and stood and stared in her face and never said a word because I was shy like an ass and there was he all in the fashion pomaded and dressed out with a smart tie on bowing and scraping and I bet anything she took him for me all the while look here now I said when we came out none of your interference here after this do you understand he laughed and how are you going to settle up with your father says he. I thought I might as well jump into the neva at once without going home first but it struck me that I wouldn t after all and I went home feeling like one of the damned. my goodness shivered the clerk. and his father he added for the prince s instruction and his father would have given a man a ticket to the other world for ten roubles any day not to speak of ten thousand the prince observed rogojin with great curiosity he seemed paler than ever at this moment. what do you know about it cried the latter. well my father learned the whole story at once and zaleshoff blabbed it all over the town besides. so he took me upstairs and locked me up and swore at me for an hour. this is only a foretaste says he wait a bit till night comes and I ll come back and talk to you again. well what do you think the old fellow went straight off to nastasia philipovna touched the floor with his forehead and began blubbering and beseeching her on his knees to give him back the diamonds. so after awhile she brought the box and flew out at him. there she says take your earrings you wretched old miser although they are ten times dearer than their value to me now that I know what it must have cost parfen to get them give parfen my compliments she says and thank him very much well I meanwhile had borrowed twenty five roubles from a friend and off I went to pskoff to my aunt s. the old woman there lectured me so that I left the house and went on a drinking tour round the public houses of the place. I was in a high fever when I got to pskoff and by nightfall I was lying delirious in the streets somewhere or other oho we ll make nastasia philipovna sing another song now giggled lebedeff rubbing his hands with glee. hey my boy we ll get her some proper earrings now we ll get her such earrings that look here cried rogojin seizing him fiercely by the arm look here if you so much as name nastasia philipovna again I ll tan your hide as sure as you sit there aha do by all means if you tan my hide you won t turn me away from your society. you ll bind me to you with your lash for ever. ha ha here we are at the station though. sure enough the train was just steaming in as he spoke. though rogojin had declared that he left pskoff secretly a large collection of friends had assembled to greet him and did so with profuse waving of hats and shouting. why there s zaleshoff here too he muttered gazing at the scene with a sort of triumphant but unpleasant smile. then he suddenly turned to the prince prince I don t know why I have taken a fancy to you perhaps because I met you just when I did. but no it can t be that for I met this fellow nodding at lebedeff too and I have not taken a fancy to him by any means. come to see me prince we ll take off those gaiters of yours and dress you up in a smart fur coat the best we can buy. you shall have a dress coat best quality white waistcoat anything you like and your pocket shall be full of money. come and you shall go with me to nastasia philipovna s. now then will you come or no accept accept prince lef nicolaievitch said lebedef solemnly don t let it slip accept quick prince muishkin rose and stretched out his hand courteously while he replied with some cordiality I will come with the greatest pleasure and thank you very much for taking a fancy to me. I dare say I may even come today if I have time for I tell you frankly that I like you very much too. I liked you especially when you told us about the diamond earrings but I liked you before that as well though you have such a dark clouded sort of face. thanks very much for the offer of clothes and a fur coat I certainly shall require both clothes and coat very soon. as for money I have hardly a copeck about me at this moment. you shall have lots of money by the evening I shall have plenty so come along that s true enough he ll have lots before evening put in lebedeff. but look here are you a great hand with the ladies let s know that first asked rogojin. oh no oh no said the prince I couldn t you know my illness I hardly ever saw a soul. h m well here you fellow you can come along with me now if you like cried rogojin to lebedeff and so they all left the carriage. lebedeff had his desire. he went off with the noisy group of rogojin s friends towards the voznesensky while the prince s route lay towards the litaynaya. it was damp and wet. the prince asked his way of passers by and finding that he was a couple of miles or so from his destination he determined to take a droshky. \n"
        }
      ],
      "source": [
        "processed_book = re.sub(r'\\si\\s', \" I \", processed_book)\n",
        "print(processed_book)"
      ]
    },
    {
      "cell_type": "markdown",
      "metadata": {
        "colab_type": "text",
        "id": "ffSWjUj4h1fL"
      },
      "source": [
        "### Find the number of times anyone was quoted (\"\") in the corpus. "
      ]
    },
    {
      "cell_type": "code",
      "execution_count": 66,
      "metadata": {},
      "outputs": [
        {
          "data": {
            "text/plain": "0"
          },
          "execution_count": 66,
          "metadata": {},
          "output_type": "execute_result"
        }
      ],
      "source": [
        "len(re.findall(r'\\”', book))"
      ]
    },
    {
      "cell_type": "markdown",
      "metadata": {
        "colab": {},
        "colab_type": "code",
        "id": "VbZKKxtqh1fU"
      },
      "source": [
        "##### Q) What are the words connected by '--' in the corpus?"
      ]
    },
    {
      "cell_type": "code",
      "execution_count": 65,
      "metadata": {},
      "outputs": [
        {
          "data": {
            "text/plain": "['ironical--it',\n 'malicious--smile',\n 'fur--or',\n 'astrachan--overcoat',\n 'it--the',\n 'Italy--was',\n 'malady--a',\n 'money--and',\n 'little--to',\n 'No--Mr',\n 'is--where',\n 'I--I',\n 'I--',\n '--though',\n 'crime--we',\n 'or--judge',\n 'gaiters--still',\n '--if',\n 'through--well',\n 'say--through',\n 'however--and',\n 'Epanchin--oh',\n 'too--at',\n 'was--and',\n 'Andreevitch--that',\n 'everyone--that',\n 'reduce--or',\n 'raise--to',\n 'listen--and',\n 'history--but',\n 'individual--one',\n 'yes--I',\n 'but--',\n 't--not',\n 'me--then',\n 'perhaps--',\n 'Yes--those',\n 'me--is',\n 'servility--if',\n 'Rogojin--hereditary',\n 'citizen--who',\n 'least--goodness',\n 'memory--but',\n 'latter--since',\n 'Rogojin--hung',\n 'him--I',\n 'anything--she',\n 'old--and',\n 'you--scarecrow',\n 'certainly--certainly',\n 'father--I',\n 'Barashkoff--I',\n 'see--and',\n 'everything--Lebedeff',\n 'about--he',\n 'now--I',\n 'Lihachof--',\n 'Zaleshoff--looking',\n 'old--fifty',\n 'so--and',\n 'this--do',\n 'day--not',\n 'that--',\n 'do--by',\n 'know--my',\n 'illness--I',\n 'well--here',\n 'fellow--you']"
          },
          "execution_count": 65,
          "metadata": {},
          "output_type": "execute_result"
        }
      ],
      "source": [
        "re.findall(r'[a-zA-Z0-9]*--[a-zA-Z0-9]*', book)"
      ]
    },
    {
      "cell_type": "markdown",
      "metadata": {},
      "source": [
        "###### The END"
      ]
    },
    {
      "cell_type": "markdown",
      "metadata": {},
      "source": [
        "######## Oh"
      ]
    }
  ]
}