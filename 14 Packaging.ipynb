{
 "nbformat": 4,
 "nbformat_minor": 2,
 "metadata": {
  "language_info": {
   "name": "python",
   "codemirror_mode": {
    "name": "ipython",
    "version": 3
   },
   "version": "3.7.4-final"
  },
  "orig_nbformat": 2,
  "file_extension": ".py",
  "mimetype": "text/x-python",
  "name": "python",
  "npconvert_exporter": "python",
  "pygments_lexer": "ipython3",
  "version": 3,
  "kernelspec": {
   "name": "python37464bit4ff258216e894a4b867aae2fac70db47",
   "display_name": "Python 3.7.4 64-bit"
  }
 },
 "cells": [
  {
   "cell_type": "markdown",
   "metadata": {},
   "source": [
    "# Packaging\n",
    "\n",
    "In Python, the term packaging refers to putting modules you have written in a standard format, so that other programmers can install and use them with ease.\n",
    "This involves use of the modules `setuptools` and `distutils`.\n",
    "The first step in packaging is to organize existing files correctly. Place all of the files you want to put in a library in the same parent directory. This directory should also contain a file called `__init__.py`, which can be blank but must be present in the directory.\n",
    "This directory goes into another directory containing the readme and license, as well as an important file called `setup.py`.\n",
    "Example directory structure:\n",
    "\n",
    "`SoloLearn/\n",
    "  * LICENSE.txt\n",
    "  * README.txt\n",
    "  * setup.py\n",
    "  * sololearn/\n",
    "     + __init__.py\n",
    "     + sololearn.py\n",
    "     + sololearn2.py`\n",
    "\n",
    "You can place as many script files in the directory as you need."
   ]
  },
  {
   "cell_type": "markdown",
   "metadata": {},
   "source": [
    "The next step in packaging is to write the `setup.py` file.\n",
    "This contains information necessary to assemble the package so it can be uploaded to **PyPI** and installed with `pip` (name, version, etc.).\n",
    "Example of a `setup.py` file:\n",
    "\n",
    "`from distutils.core import setup`\n",
    "\n",
    "`setup(\n",
    "   name='SoloLearn', \n",
    "   version='0.1dev',\n",
    "   packages=['sololearn',],\n",
    "   license='MIT', \n",
    "   long_description=open('README.txt').read(),\n",
    ")`\n",
    "\n",
    "After creating the `setup.py` file, upload it to *PyPI*, or use the command line to create a binary distribution (an executable installer).\n",
    "To build a source distribution, use the command line to navigate to the directory containing `setup.py`, and run the command `python setup.py sdist`.\n",
    "Run `python setup.py bdist` or, for Windows, `python setup.py bdist_wininst` to build a binary distribution.\n",
    "Use `python setup.py register`, followed by `python setup.py sdist upload` to upload a package.\n",
    "\n",
    "\n",
    "Finally, install a package with `python setup.py install`."
   ]
  },
  {
   "cell_type": "markdown",
   "metadata": {},
   "source": [
    "# Packaging for Users\n",
    "\n",
    "The previous lesson covered packaging modules for use by other Python programmers. However, many computer users who are not programmers do not have Python installed. Therefore, it is useful to package scripts as executable files for the relevant platform, such as the *Windows* or *Mac* operating systems. This is not necessary for *Linux*, as most *Linux* users do have Python installed, and are able to run scripts as they are.\n",
    "\n",
    "For *Windows*, many tools are available for converting scripts to executables. For example, `py2exe`, can be used to package a Python script, along with the libraries it requires, into a single executable.\n",
    "`PyInstaller` and `cx_Freeze` serve the same purpose.\n",
    "For Macs, use `py2app`, `PyInstaller` or `cx_Freeze`."
   ]
  },
  {
   "cell_type": "markdown",
   "metadata": {},
   "source": [
    "The above info is from [Sololearn](https://www.sololearn.com/)"
   ]
  }
 ]
}